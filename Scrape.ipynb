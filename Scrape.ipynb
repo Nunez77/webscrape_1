{
 "cells": [
  {
   "cell_type": "code",
   "execution_count": 5,
   "id": "f1017991",
   "metadata": {},
   "outputs": [],
   "source": [
    "import pandas as pd\n",
    "import numpy as np\n",
    "import requests"
   ]
  },
  {
   "cell_type": "code",
   "execution_count": 6,
   "id": "d463d33f",
   "metadata": {},
   "outputs": [
    {
     "name": "stdout",
     "output_type": "stream",
     "text": [
      "190\n"
     ]
    }
   ],
   "source": [
    "headers = {\"User-Agent\": \"XY\"}\n",
    "link = \"https://brokercenter.net/playa-del-carmen/\" # enter specific page\n",
    "r = requests.get(link, headers=headers)\n",
    "print(len(r.text.split('<tr class=\"row')))\n",
    "\n",
    "Dataset = \"\" # declare variable so python does not freak out"
   ]
  },
  {
   "cell_type": "code",
   "execution_count": 7,
   "id": "59f212e7",
   "metadata": {},
   "outputs": [
    {
     "name": "stdout",
     "output_type": "stream",
     "text": [
      "['Desarrollo', 'Entrega', 'Dirección', 'Cantidad de unidades', 'Master Broker']\n",
      "    Desarrollo    Entrega          Dirección Cantidad de unidades  \\\n",
      "1  120 Midtown  Inmediata  Av. 120 y calle 3                   15   \n",
      "\n",
      "  Master Broker  \n",
      "1    MAYA OCEAN  \n"
     ]
    }
   ],
   "source": [
    "cols = []\n",
    "for row in range(1, len(r.text.split('<tr class=\"row'))): # loop through rows\n",
    "        l = r.text.split(f'<tr class=\"row-{row} ')[1].split('</tr>')[0]\n",
    "        s = l.split('\">')\n",
    "        icols = []\n",
    "        for col in range(7): # loop through columns in rows\n",
    "\n",
    "                # get data from html\n",
    "                if s[col].split(\"<\")[0] == '\\n\\t' or s[col].split(\"<\")[0] == \"odd\" or s[col].split(\"<\")[0] == \"even\":\n",
    "                        continue\n",
    "                if row == 1:\n",
    "                        cols.append(s[col].split(\"<\")[0])\n",
    "                else:\n",
    "                        icols.append(s[col].split(\"<\")[0])\n",
    "                        \n",
    "        # append data to dataset\n",
    "        if row == 1:\n",
    "                continue\n",
    "        if row == 2:\n",
    "                print(cols) # print columns\n",
    "                Dataset = pd.DataFrame(np.array(icols).reshape([1, len(icols)]), index=[1], columns=cols)\n",
    "                print(Dataset) # print columns and first row of data\n",
    "        else:\n",
    "                # appease pandas with odd reshaping of data lists\n",
    "                Dataset = Dataset.append(pd.DataFrame(np.array(icols).reshape([1, len(icols)]), index=[1], columns=cols))"
   ]
  },
  {
   "cell_type": "code",
   "execution_count": 8,
   "id": "5be0165e",
   "metadata": {},
   "outputs": [
    {
     "name": "stdout",
     "output_type": "stream",
     "text": [
      "      Desarrollo      Entrega                         Dirección  \\\n",
      "1    120 Midtown    Inmediata                 Av. 120 y calle 3   \n",
      "1     953 Studio    Inmediata                Av. 95 con Calle 3   \n",
      "1           1540   SUSPENDIDO               Av. 15 con Calle 40   \n",
      "1   Acento Playa    Inmediata  Av. 15 entre Calle 38 y Calle 40   \n",
      "1          Agama                             Av 10 con Calle 24   \n",
      "..           ...          ...                               ...   \n",
      "1         Yaxche  Agosto-2022               Av. 45 con calle 26   \n",
      "1       Zazil 20    Inmediata               Av. 20 con calle 42   \n",
      "1       Zilha 42    Inmediata            Calle 42 entre 20 y 25   \n",
      "1       Zulim 34    Inmediata               Calle 34 con Av. 35   \n",
      "1   Zulim Condos    Inmediata   Diagonal Aeropuerto esq. Av. 45   \n",
      "\n",
      "   Cantidad de unidades        Master Broker  \n",
      "1                    15           MAYA OCEAN  \n",
      "1                    35             INGARPRO  \n",
      "1                    24                       \n",
      "1                     6  BOZATI INMOBILIARIA  \n",
      "1                                       KAUA  \n",
      "..                  ...                  ...  \n",
      "1                    59          HEI REALTOR  \n",
      "1                    20             ZAZIL 20  \n",
      "1                    31              ZILHA42  \n",
      "1                    20    GRUPO DE LA TORRE  \n",
      "1                    19    GRUPO DE LA TORRE  \n",
      "\n",
      "[188 rows x 5 columns]\n"
     ]
    }
   ],
   "source": [
    "print(Dataset) # print data(it tends to run together when printed but is clean in memory)"
   ]
  },
  {
   "cell_type": "code",
   "execution_count": 9,
   "id": "1b2c2115",
   "metadata": {},
   "outputs": [],
   "source": [
    "Dataset.to_csv(\"data.csv\") # save as csv file"
   ]
  },
  {
   "cell_type": "code",
   "execution_count": null,
   "id": "35a04641",
   "metadata": {},
   "outputs": [],
   "source": []
  }
 ],
 "metadata": {
  "kernelspec": {
   "display_name": "Python 3",
   "language": "python",
   "name": "python3"
  },
  "language_info": {
   "codemirror_mode": {
    "name": "ipython",
    "version": 3
   },
   "file_extension": ".py",
   "mimetype": "text/x-python",
   "name": "python",
   "nbconvert_exporter": "python",
   "pygments_lexer": "ipython3",
   "version": "3.8.8"
  }
 },
 "nbformat": 4,
 "nbformat_minor": 5
}
