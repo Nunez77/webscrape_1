{
 "cells": [
  {
   "cell_type": "code",
   "execution_count": 10,
   "id": "f6a2a1cf",
   "metadata": {},
   "outputs": [],
   "source": [
    "import pandas as pd\n",
    "import numpy as np\n",
    "import requests"
   ]
  },
  {
   "cell_type": "code",
   "execution_count": 11,
   "id": "40aac706",
   "metadata": {},
   "outputs": [
    {
     "name": "stdout",
     "output_type": "stream",
     "text": [
      "190\n"
     ]
    }
   ],
   "source": [
    "# P L A Y A  D E L  C A R M E N\n",
    "\n",
    "headers = {\"User-Agent\": \"XY\"}\n",
    "link = \"https://brokercenter.net/playa-del-carmen/\" # enter specific page\n",
    "r = requests.get(link, headers=headers)\n",
    "print(len(r.text.split('<tr class=\"row')))\n",
    "\n",
    "Dataset = \"\" # declare variable so python does not freak out"
   ]
  },
  {
   "cell_type": "code",
   "execution_count": 12,
   "id": "11553819",
   "metadata": {},
   "outputs": [
    {
     "name": "stdout",
     "output_type": "stream",
     "text": [
      "['Desarrollo', 'Entrega', 'Dirección', 'Cantidad de unidades', 'Master Broker']\n",
      "    Desarrollo    Entrega          Dirección Cantidad de unidades  \\\n",
      "1  120 Midtown  Inmediata  Av. 120 y calle 3                   15   \n",
      "\n",
      "  Master Broker  \n",
      "1    MAYA OCEAN  \n"
     ]
    }
   ],
   "source": [
    "cols = []\n",
    "for row in range(1, len(r.text.split('<tr class=\"row'))): # loop through rows\n",
    "        l = r.text.split(f'<tr class=\"row-{row} ')[1].split('</tr>')[0]\n",
    "        s = l.split('\">')\n",
    "        icols = []\n",
    "        for col in range(7): # loop through columns in rows\n",
    "\n",
    "                # get data from html\n",
    "                if s[col].split(\"<\")[0] == '\\n\\t' or s[col].split(\"<\")[0] == \"odd\" or s[col].split(\"<\")[0] == \"even\":\n",
    "                        continue\n",
    "                if row == 1:\n",
    "                        cols.append(s[col].split(\"<\")[0])\n",
    "                else:\n",
    "                        icols.append(s[col].split(\"<\")[0])\n",
    "                        \n",
    "        # append data to dataset\n",
    "        if row == 1:\n",
    "                continue\n",
    "        if row == 2:\n",
    "                print(cols) # print columns\n",
    "                Dataset = pd.DataFrame(np.array(icols).reshape([1, len(icols)]), index=[1], columns=cols)\n",
    "                print(Dataset) # print columns and first row of data\n",
    "        else:\n",
    "                # appease pandas with odd reshaping of data lists\n",
    "                Dataset = Dataset.append(pd.DataFrame(np.array(icols).reshape([1, len(icols)]), index=[1], columns=cols))"
   ]
  },
  {
   "cell_type": "code",
   "execution_count": 13,
   "id": "ca9ea593",
   "metadata": {},
   "outputs": [
    {
     "name": "stdout",
     "output_type": "stream",
     "text": [
      "      Desarrollo      Entrega                         Dirección  \\\n",
      "1    120 Midtown    Inmediata                 Av. 120 y calle 3   \n",
      "1     953 Studio    Inmediata                Av. 95 con Calle 3   \n",
      "1           1540   SUSPENDIDO               Av. 15 con Calle 40   \n",
      "1   Acento Playa    Inmediata  Av. 15 entre Calle 38 y Calle 40   \n",
      "1          Agama                             Av 10 con Calle 24   \n",
      "..           ...          ...                               ...   \n",
      "1         Yaxche  Agosto-2022               Av. 45 con calle 26   \n",
      "1       Zazil 20    Inmediata               Av. 20 con calle 42   \n",
      "1       Zilha 42    Inmediata            Calle 42 entre 20 y 25   \n",
      "1       Zulim 34    Inmediata               Calle 34 con Av. 35   \n",
      "1   Zulim Condos    Inmediata   Diagonal Aeropuerto esq. Av. 45   \n",
      "\n",
      "   Cantidad de unidades        Master Broker  \n",
      "1                    15           MAYA OCEAN  \n",
      "1                    35             INGARPRO  \n",
      "1                    24                       \n",
      "1                     6  BOZATI INMOBILIARIA  \n",
      "1                                       KAUA  \n",
      "..                  ...                  ...  \n",
      "1                    59          HEI REALTOR  \n",
      "1                    20             ZAZIL 20  \n",
      "1                    31              ZILHA42  \n",
      "1                    20    GRUPO DE LA TORRE  \n",
      "1                    19    GRUPO DE LA TORRE  \n",
      "\n",
      "[188 rows x 5 columns]\n"
     ]
    }
   ],
   "source": [
    "print(Dataset) # print data(it tends to run together when printed but is clean in memory)"
   ]
  },
  {
   "cell_type": "code",
   "execution_count": 14,
   "id": "b092c14a",
   "metadata": {},
   "outputs": [],
   "source": [
    "Dataset.to_csv(\"PLAYAdelCARMEN.csv\") # save as csv file"
   ]
  },
  {
   "cell_type": "code",
   "execution_count": 15,
   "id": "0cb93f14",
   "metadata": {},
   "outputs": [
    {
     "name": "stdout",
     "output_type": "stream",
     "text": [
      "337\n"
     ]
    }
   ],
   "source": [
    "# T U L U M\n",
    "headers = {\"User-Agent\": \"XY\"}\n",
    "link = \"https://brokercenter.net/tulum/\" # enter specific page\n",
    "r = requests.get(link, headers=headers)\n",
    "print(len(r.text.split('<tr class=\"row')))\n",
    "\n",
    "Dataset = \"\" # declare variable so python does not freak out"
   ]
  },
  {
   "cell_type": "code",
   "execution_count": 16,
   "id": "4d33eb7b",
   "metadata": {},
   "outputs": [
    {
     "name": "stdout",
     "output_type": "stream",
     "text": [
      "['Desarrollo', 'Entrega', 'Dirección', 'Cantidad de', 'Master Broker']\n",
      "  Desarrollo    Entrega  Dirección Cantidad de   Master Broker\n",
      "1      Amena  Inmediata  Region 15          24  RIVIERA MORADA\n"
     ]
    }
   ],
   "source": [
    "cols = []\n",
    "for row in range(1, len(r.text.split('<tr class=\"row'))): # loop through rows\n",
    "        l = r.text.split(f'<tr class=\"row-{row} ')[1].split('</tr>')[0]\n",
    "        s = l.split('\">')\n",
    "        icols = []\n",
    "        for col in range(7): # loop through columns in rows\n",
    "\n",
    "                # get data from html\n",
    "                if s[col].split(\"<\")[0] == '\\n\\t' or s[col].split(\"<\")[0] == \"odd\" or s[col].split(\"<\")[0] == \"even\":\n",
    "                        continue\n",
    "                if row == 1:\n",
    "                        cols.append(s[col].split(\"<\")[0])\n",
    "                else:\n",
    "                        icols.append(s[col].split(\"<\")[0])\n",
    "                        \n",
    "        # append data to dataset\n",
    "        if row == 1:\n",
    "                continue\n",
    "        if row == 2:\n",
    "                print(cols) # print columns\n",
    "                Dataset = pd.DataFrame(np.array(icols).reshape([1, len(icols)]), index=[1], columns=cols)\n",
    "                print(Dataset) # print columns and first row of data\n",
    "        else:\n",
    "                # appease pandas with odd reshaping of data lists\n",
    "                Dataset = Dataset.append(pd.DataFrame(np.array(icols).reshape([1, len(icols)]), index=[1], columns=cols))"
   ]
  },
  {
   "cell_type": "code",
   "execution_count": 17,
   "id": "aa22b634",
   "metadata": {},
   "outputs": [
    {
     "name": "stdout",
     "output_type": "stream",
     "text": [
      "              Desarrollo             Entrega      Dirección Cantidad de  \\\n",
      "1                  Amena           Inmediata      Region 15          24   \n",
      "1   Blue Luxury Kukulcan           Inmediata      Region 15               \n",
      "1                  Cacao           Inmediata      La Veleta          54   \n",
      "1               Condos 8           Inmediata      La Veleta          20   \n",
      "1                  Copal           Inmediata     Aldea Zama          56   \n",
      "..                   ...                 ...            ...         ...   \n",
      "1                   Xuxu      Diciembre-2021  Riviera Tulum           8   \n",
      "1                 Xuxu 2         Verano-2022  Riviera Tulum           6   \n",
      "1                Yaaxlum  Torre N: Inmediata      Region 15          64   \n",
      "1               Zama 120           Inmediata     Aldea Zama    SOLD OUT   \n",
      "1              Zen Tulum           Pendiente      Region 15               \n",
      "\n",
      "      Master Broker  \n",
      "1    RIVIERA MORADA  \n",
      "1            WALDIR  \n",
      "1         ONE PRIME  \n",
      "1               BRM  \n",
      "1   ATACAMA RIVIERA  \n",
      "..              ...  \n",
      "1            MEXARK  \n",
      "1            MEXARK  \n",
      "1               GMB  \n",
      "1               GMB  \n",
      "1         MIDACTIVE  \n",
      "\n",
      "[335 rows x 5 columns]\n"
     ]
    }
   ],
   "source": [
    "print(Dataset) # print data(it tends to run together when printed but is clean in memory)"
   ]
  },
  {
   "cell_type": "code",
   "execution_count": 18,
   "id": "fcbd1f0a",
   "metadata": {},
   "outputs": [],
   "source": [
    "Dataset.to_csv(\"TULUM.csv\") # save as csv file"
   ]
  },
  {
   "cell_type": "code",
   "execution_count": 19,
   "id": "75682fea",
   "metadata": {},
   "outputs": [
    {
     "name": "stdout",
     "output_type": "stream",
     "text": [
      "50\n"
     ]
    }
   ],
   "source": [
    "# H O L B O X  Y  O T R O S  P A R A I S O S\n",
    "headers = {\"User-Agent\": \"XY\"}\n",
    "link = \"https://brokercenter.net/holbox-otros-paraisos/\" # enter specific page\n",
    "r = requests.get(link, headers=headers)\n",
    "print(len(r.text.split('<tr class=\"row')))\n",
    "\n",
    "Dataset = \"\" # declare variable so python does not freak out"
   ]
  },
  {
   "cell_type": "code",
   "execution_count": 20,
   "id": "3533ea71",
   "metadata": {},
   "outputs": [
    {
     "name": "stdout",
     "output_type": "stream",
     "text": [
      "['Desarrollo', 'Localidad', 'Dirección', 'Master Broker', 'DA CLICK AQUÍ PARA IR A LA INFORMACIÓN']\n",
      "  Desarrollo Localidad       Dirección   Master Broker  \\\n",
      "1   DownTown    Akumal  Bahía Príncipe  BAHIA PRINCIPE   \n",
      "\n",
      "  DA CLICK AQUÍ PARA IR A LA INFORMACIÓN  \n",
      "1                                         \n"
     ]
    }
   ],
   "source": [
    "cols = []\n",
    "for row in range(1, len(r.text.split('<tr class=\"row'))): # loop through rows\n",
    "        l = r.text.split(f'<tr class=\"row-{row} ')[1].split('</tr>')[0]\n",
    "        s = l.split('\">')\n",
    "        icols = []\n",
    "        for col in range(7): # loop through columns in rows\n",
    "\n",
    "                # get data from html\n",
    "                if s[col].split(\"<\")[0] == '\\n\\t' or s[col].split(\"<\")[0] == \"odd\" or s[col].split(\"<\")[0] == \"even\":\n",
    "                        continue\n",
    "                if row == 1:\n",
    "                        cols.append(s[col].split(\"<\")[0])\n",
    "                else:\n",
    "                        icols.append(s[col].split(\"<\")[0])\n",
    "                        \n",
    "        # append data to dataset\n",
    "        if row == 1:\n",
    "                continue\n",
    "        if row == 2:\n",
    "                print(cols) # print columns\n",
    "                Dataset = pd.DataFrame(np.array(icols).reshape([1, len(icols)]), index=[1], columns=cols)\n",
    "                print(Dataset) # print columns and first row of data\n",
    "        else:\n",
    "                # appease pandas with odd reshaping of data lists\n",
    "                Dataset = Dataset.append(pd.DataFrame(np.array(icols).reshape([1, len(icols)]), index=[1], columns=cols))"
   ]
  },
  {
   "cell_type": "code",
   "execution_count": 21,
   "id": "c9ea13cb",
   "metadata": {},
   "outputs": [
    {
     "name": "stdout",
     "output_type": "stream",
     "text": [
      "                 Desarrollo         Localidad             Dirección  \\\n",
      "1                  DownTown            Akumal        Bahía Príncipe   \n",
      "1                   Kaan Ha            Akumal        Bahía Príncipe   \n",
      "1      A-Nah Bahía Príncipe            Akumal        Bahía Príncipe   \n",
      "1             A-Nah Village            Akumal        Bahía Príncipe   \n",
      "1             Tao Community            Akumal        Bahía Príncipe   \n",
      "1                   Tao Sek            Akumal        Bahía Príncipe   \n",
      "1      Tao Ocean Residences            Akumal                Akumal   \n",
      "1               Tao La Luna            Akumal                Akumal   \n",
      "1           Tao Akumal Chic            Akumal                Akumal   \n",
      "1             Tao El Bosque            Akumal                Akumal   \n",
      "1              Tao Santamar            Akumal                Akumal   \n",
      "1              Tao La Selva            Akumal               Sirenis   \n",
      "1                Tao Solana            Akumal               Sirenis   \n",
      "1                Tao Zamira            Akumal               Sirenis   \n",
      "1             Seasun Condos            Akumal               Sirenis   \n",
      "1                    Yaamaj            Akumal               Sirenis   \n",
      "1                 Tankah 52     Caleta Tankah         Caleta Tankah   \n",
      "1                 4 Vientos     Caleta Tankah         Caleta Tankah   \n",
      "1                   Kooptee          Chemuyil                Centro   \n",
      "1          Distrito Cozumel           Cozumel                         \n",
      "1                 Elementos           Cozumel         Campo de Golf   \n",
      "1                     Galia           Cozumel                         \n",
      "1                    Kippal           Cozumel                Centro   \n",
      "1                    Nativo           Cozumel                 Norte   \n",
      "1                    Novara           Cozumel                Centro   \n",
      "1            Suites Cozumel           Cozumel            Centro Sur   \n",
      "1                 The María           Cozumel                Centro   \n",
      "1                Riad Romeo           El Cuyo               El Cuyo   \n",
      "1                 Yam Balam            Holbox            Punta Coco   \n",
      "1                   Adentia            Holbox                Centro   \n",
      "1                    Artila      Isla Mujeres          Isla Mujeres   \n",
      "1                      Saam          Mahahual        Mahahual costa   \n",
      "1                  IKI Soul          Mahahual           Las Casitas   \n",
      "1                   Allegro  Puerto Aventuras      Marina 1 Sección   \n",
      "1                     Bliss  Puerto Aventuras      Marina 4 Sección   \n",
      "1                Blue House  Puerto Aventuras      Marina 4 Sección   \n",
      "1                   CasaCun  Puerto Aventuras                         \n",
      "1             Quinta Laguna  Puerto Aventuras        Bahia Kantenah   \n",
      "1               Tao Nautico  Puerto Aventuras                Marina   \n",
      "1              Villas KA'AN  Puerto Aventuras         Campo de Golf   \n",
      "1                    Briara  Puerto Aventuras                 Taema   \n",
      "1                GlassHouse  Puerto Aventuras                 Taema   \n",
      "1               Taema Homes  Puerto Aventuras                 Taema   \n",
      "1          Distrito Morelos    Puerto Morelos  Puerto Morelos Costa   \n",
      "1  The Fives Puerto Morelos    Puerto Morelos  Puerto Morelos Costa   \n",
      "1               Gaia Condos    Puerto Morelos  Puerto Morelos Costa   \n",
      "1                      Ikal    Puerto Morelos        Puerto Morelos   \n",
      "1                  MayaKaan    Puerto Morelos        Puerto Morelos   \n",
      "\n",
      "         Master Broker DA CLICK AQUÍ PARA IR A LA INFORMACIÓN  \n",
      "1       BAHIA PRINCIPE                                         \n",
      "1       BAHIA PRINCIPE                                         \n",
      "1                A-NAH                                         \n",
      "1                A-NAH                                         \n",
      "1                  TAO                                         \n",
      "1                  TAO                                         \n",
      "1                  TAO                                         \n",
      "1                  TAO                               SOLD OUT  \n",
      "1                  TAO                               SOLD OUT  \n",
      "1                  TAO                                         \n",
      "1                  TAO                                         \n",
      "1                  TAO                                         \n",
      "1                  TAO                                         \n",
      "1                  TAO                                         \n",
      "1      ROGER CHAVARRIA                                         \n",
      "1        GRUPO SIERRAS                                         \n",
      "1             AMORAMAR                                         \n",
      "1             AMORAMAR                                         \n",
      "1           OCEAN MAYA                                         \n",
      "1                                                              \n",
      "1         DREAM HOUSES                                         \n",
      "1                                                              \n",
      "1             ESREALTY                                         \n",
      "1                LOTUS                                         \n",
      "1              BARTEGA                                         \n",
      "1                                                              \n",
      "1            THE MARIA                                         \n",
      "1        GRUPO TSALACH                                         \n",
      "1               DUVELA                                         \n",
      "1                RAISE                                         \n",
      "1               ARTILA                                         \n",
      "1                  GMB                                         \n",
      "1                LOTUS                                         \n",
      "1         DREAM HOUSES                                         \n",
      "1                                                              \n",
      "1                  GMB                                         \n",
      "1  ENGEL &amp; VOLKERS                                         \n",
      "1                 AQUA                                         \n",
      "1                  TAO                                         \n",
      "1                 AQUA                                         \n",
      "1                                                              \n",
      "1              ROIALTY                                         \n",
      "1              ROIALTY                                         \n",
      "1              TSALACH                                         \n",
      "1            THE FIVES                                         \n",
      "1                                                              \n",
      "1                                                              \n",
      "1             MAYAKAAN                                         \n"
     ]
    }
   ],
   "source": [
    "print(Dataset) # print data(it tends to run together when printed but is clean in memory)"
   ]
  },
  {
   "cell_type": "code",
   "execution_count": 22,
   "id": "a470cf93",
   "metadata": {},
   "outputs": [],
   "source": [
    "Dataset.to_csv(\"HOLBOXYOTROS.csv\") # save as csv file"
   ]
  },
  {
   "cell_type": "code",
   "execution_count": 23,
   "id": "1513bdd7",
   "metadata": {},
   "outputs": [
    {
     "name": "stdout",
     "output_type": "stream",
     "text": [
      "50\n"
     ]
    }
   ],
   "source": [
    "# C A N  C U N\n",
    "headers = {\"User-Agent\": \"XY\"}\n",
    "link = \"https://brokercenter.net/holbox-otros-paraisos/\" # enter specific page\n",
    "r = requests.get(link, headers=headers)\n",
    "print(len(r.text.split('<tr class=\"row')))\n",
    "\n",
    "Dataset = \"\" # declare variable so python does not freak out"
   ]
  },
  {
   "cell_type": "code",
   "execution_count": 24,
   "id": "7c5c2ac3",
   "metadata": {},
   "outputs": [
    {
     "name": "stdout",
     "output_type": "stream",
     "text": [
      "['Desarrollo', 'Localidad', 'Dirección', 'Master Broker', 'DA CLICK AQUÍ PARA IR A LA INFORMACIÓN']\n",
      "  Desarrollo Localidad       Dirección   Master Broker  \\\n",
      "1   DownTown    Akumal  Bahía Príncipe  BAHIA PRINCIPE   \n",
      "\n",
      "  DA CLICK AQUÍ PARA IR A LA INFORMACIÓN  \n",
      "1                                         \n"
     ]
    }
   ],
   "source": [
    "cols = []\n",
    "for row in range(1, len(r.text.split('<tr class=\"row'))): # loop through rows\n",
    "        l = r.text.split(f'<tr class=\"row-{row} ')[1].split('</tr>')[0]\n",
    "        s = l.split('\">')\n",
    "        icols = []\n",
    "        for col in range(7): # loop through columns in rows\n",
    "\n",
    "                # get data from html\n",
    "                if s[col].split(\"<\")[0] == '\\n\\t' or s[col].split(\"<\")[0] == \"odd\" or s[col].split(\"<\")[0] == \"even\":\n",
    "                        continue\n",
    "                if row == 1:\n",
    "                        cols.append(s[col].split(\"<\")[0])\n",
    "                else:\n",
    "                        icols.append(s[col].split(\"<\")[0])\n",
    "                        \n",
    "        # append data to dataset\n",
    "        if row == 1:\n",
    "                continue\n",
    "        if row == 2:\n",
    "                print(cols) # print columns\n",
    "                Dataset = pd.DataFrame(np.array(icols).reshape([1, len(icols)]), index=[1], columns=cols)\n",
    "                print(Dataset) # print columns and first row of data\n",
    "        else:\n",
    "                # appease pandas with odd reshaping of data lists\n",
    "                Dataset = Dataset.append(pd.DataFrame(np.array(icols).reshape([1, len(icols)]), index=[1], columns=cols))"
   ]
  },
  {
   "cell_type": "code",
   "execution_count": 25,
   "id": "4ca0c87c",
   "metadata": {},
   "outputs": [
    {
     "name": "stdout",
     "output_type": "stream",
     "text": [
      "                 Desarrollo         Localidad             Dirección  \\\n",
      "1                  DownTown            Akumal        Bahía Príncipe   \n",
      "1                   Kaan Ha            Akumal        Bahía Príncipe   \n",
      "1      A-Nah Bahía Príncipe            Akumal        Bahía Príncipe   \n",
      "1             A-Nah Village            Akumal        Bahía Príncipe   \n",
      "1             Tao Community            Akumal        Bahía Príncipe   \n",
      "1                   Tao Sek            Akumal        Bahía Príncipe   \n",
      "1      Tao Ocean Residences            Akumal                Akumal   \n",
      "1               Tao La Luna            Akumal                Akumal   \n",
      "1           Tao Akumal Chic            Akumal                Akumal   \n",
      "1             Tao El Bosque            Akumal                Akumal   \n",
      "1              Tao Santamar            Akumal                Akumal   \n",
      "1              Tao La Selva            Akumal               Sirenis   \n",
      "1                Tao Solana            Akumal               Sirenis   \n",
      "1                Tao Zamira            Akumal               Sirenis   \n",
      "1             Seasun Condos            Akumal               Sirenis   \n",
      "1                    Yaamaj            Akumal               Sirenis   \n",
      "1                 Tankah 52     Caleta Tankah         Caleta Tankah   \n",
      "1                 4 Vientos     Caleta Tankah         Caleta Tankah   \n",
      "1                   Kooptee          Chemuyil                Centro   \n",
      "1          Distrito Cozumel           Cozumel                         \n",
      "1                 Elementos           Cozumel         Campo de Golf   \n",
      "1                     Galia           Cozumel                         \n",
      "1                    Kippal           Cozumel                Centro   \n",
      "1                    Nativo           Cozumel                 Norte   \n",
      "1                    Novara           Cozumel                Centro   \n",
      "1            Suites Cozumel           Cozumel            Centro Sur   \n",
      "1                 The María           Cozumel                Centro   \n",
      "1                Riad Romeo           El Cuyo               El Cuyo   \n",
      "1                 Yam Balam            Holbox            Punta Coco   \n",
      "1                   Adentia            Holbox                Centro   \n",
      "1                    Artila      Isla Mujeres          Isla Mujeres   \n",
      "1                      Saam          Mahahual        Mahahual costa   \n",
      "1                  IKI Soul          Mahahual           Las Casitas   \n",
      "1                   Allegro  Puerto Aventuras      Marina 1 Sección   \n",
      "1                     Bliss  Puerto Aventuras      Marina 4 Sección   \n",
      "1                Blue House  Puerto Aventuras      Marina 4 Sección   \n",
      "1                   CasaCun  Puerto Aventuras                         \n",
      "1             Quinta Laguna  Puerto Aventuras        Bahia Kantenah   \n",
      "1               Tao Nautico  Puerto Aventuras                Marina   \n",
      "1              Villas KA'AN  Puerto Aventuras         Campo de Golf   \n",
      "1                    Briara  Puerto Aventuras                 Taema   \n",
      "1                GlassHouse  Puerto Aventuras                 Taema   \n",
      "1               Taema Homes  Puerto Aventuras                 Taema   \n",
      "1          Distrito Morelos    Puerto Morelos  Puerto Morelos Costa   \n",
      "1  The Fives Puerto Morelos    Puerto Morelos  Puerto Morelos Costa   \n",
      "1               Gaia Condos    Puerto Morelos  Puerto Morelos Costa   \n",
      "1                      Ikal    Puerto Morelos        Puerto Morelos   \n",
      "1                  MayaKaan    Puerto Morelos        Puerto Morelos   \n",
      "\n",
      "         Master Broker DA CLICK AQUÍ PARA IR A LA INFORMACIÓN  \n",
      "1       BAHIA PRINCIPE                                         \n",
      "1       BAHIA PRINCIPE                                         \n",
      "1                A-NAH                                         \n",
      "1                A-NAH                                         \n",
      "1                  TAO                                         \n",
      "1                  TAO                                         \n",
      "1                  TAO                                         \n",
      "1                  TAO                               SOLD OUT  \n",
      "1                  TAO                               SOLD OUT  \n",
      "1                  TAO                                         \n",
      "1                  TAO                                         \n",
      "1                  TAO                                         \n",
      "1                  TAO                                         \n",
      "1                  TAO                                         \n",
      "1      ROGER CHAVARRIA                                         \n",
      "1        GRUPO SIERRAS                                         \n",
      "1             AMORAMAR                                         \n",
      "1             AMORAMAR                                         \n",
      "1           OCEAN MAYA                                         \n",
      "1                                                              \n",
      "1         DREAM HOUSES                                         \n",
      "1                                                              \n",
      "1             ESREALTY                                         \n",
      "1                LOTUS                                         \n",
      "1              BARTEGA                                         \n",
      "1                                                              \n",
      "1            THE MARIA                                         \n",
      "1        GRUPO TSALACH                                         \n",
      "1               DUVELA                                         \n",
      "1                RAISE                                         \n",
      "1               ARTILA                                         \n",
      "1                  GMB                                         \n",
      "1                LOTUS                                         \n",
      "1         DREAM HOUSES                                         \n",
      "1                                                              \n",
      "1                  GMB                                         \n",
      "1  ENGEL &amp; VOLKERS                                         \n",
      "1                 AQUA                                         \n",
      "1                  TAO                                         \n",
      "1                 AQUA                                         \n",
      "1                                                              \n",
      "1              ROIALTY                                         \n",
      "1              ROIALTY                                         \n",
      "1              TSALACH                                         \n",
      "1            THE FIVES                                         \n",
      "1                                                              \n",
      "1                                                              \n",
      "1             MAYAKAAN                                         \n"
     ]
    }
   ],
   "source": [
    "print(Dataset) # print data(it tends to run together when printed but is clean in memory)"
   ]
  },
  {
   "cell_type": "code",
   "execution_count": 26,
   "id": "842254da",
   "metadata": {},
   "outputs": [],
   "source": [
    "Dataset.to_csv(\"CANCUN.csv\") # save as csv file"
   ]
  }
 ],
 "metadata": {
  "kernelspec": {
   "display_name": "Python 3",
   "language": "python",
   "name": "python3"
  },
  "language_info": {
   "codemirror_mode": {
    "name": "ipython",
    "version": 3
   },
   "file_extension": ".py",
   "mimetype": "text/x-python",
   "name": "python",
   "nbconvert_exporter": "python",
   "pygments_lexer": "ipython3",
   "version": "3.8.8"
  }
 },
 "nbformat": 4,
 "nbformat_minor": 5
}
