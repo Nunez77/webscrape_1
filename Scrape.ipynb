{
 "cells": [
  {
   "cell_type": "code",
   "execution_count": 3,
   "id": "013896ba",
   "metadata": {},
   "outputs": [],
   "source": [
    "import pandas as pd\n",
    "import numpy as np"
   ]
  },
  {
   "cell_type": "code",
   "execution_count": 4,
   "id": "04827f60",
   "metadata": {},
   "outputs": [
    {
     "ename": "NameError",
     "evalue": "name 'requests' is not defined",
     "output_type": "error",
     "traceback": [
      "\u001b[1;31m---------------------------------------------------------------------------\u001b[0m",
      "\u001b[1;31mNameError\u001b[0m                                 Traceback (most recent call last)",
      "\u001b[1;32m<ipython-input-4-5caf90073dec>\u001b[0m in \u001b[0;36m<module>\u001b[1;34m\u001b[0m\n\u001b[0;32m      1\u001b[0m \u001b[0mheaders\u001b[0m \u001b[1;33m=\u001b[0m \u001b[1;33m{\u001b[0m\u001b[1;34m\"User-Agent\"\u001b[0m\u001b[1;33m:\u001b[0m \u001b[1;34m\"XY\"\u001b[0m\u001b[1;33m}\u001b[0m\u001b[1;33m\u001b[0m\u001b[1;33m\u001b[0m\u001b[0m\n\u001b[0;32m      2\u001b[0m \u001b[0mlink\u001b[0m \u001b[1;33m=\u001b[0m \u001b[1;34m\"https://brokercenter.net/playa-del-carmen/\"\u001b[0m \u001b[1;31m# enter specific page\u001b[0m\u001b[1;33m\u001b[0m\u001b[1;33m\u001b[0m\u001b[0m\n\u001b[1;32m----> 3\u001b[1;33m \u001b[0mr\u001b[0m \u001b[1;33m=\u001b[0m \u001b[0mrequests\u001b[0m\u001b[1;33m.\u001b[0m\u001b[0mget\u001b[0m\u001b[1;33m(\u001b[0m\u001b[0mlink\u001b[0m\u001b[1;33m,\u001b[0m \u001b[0mheaders\u001b[0m\u001b[1;33m=\u001b[0m\u001b[0mheaders\u001b[0m\u001b[1;33m)\u001b[0m\u001b[1;33m\u001b[0m\u001b[1;33m\u001b[0m\u001b[0m\n\u001b[0m\u001b[0;32m      4\u001b[0m \u001b[0mprint\u001b[0m\u001b[1;33m(\u001b[0m\u001b[0mlen\u001b[0m\u001b[1;33m(\u001b[0m\u001b[0mr\u001b[0m\u001b[1;33m.\u001b[0m\u001b[0mtext\u001b[0m\u001b[1;33m.\u001b[0m\u001b[0msplit\u001b[0m\u001b[1;33m(\u001b[0m\u001b[1;34m'<tr class=\"row'\u001b[0m\u001b[1;33m)\u001b[0m\u001b[1;33m)\u001b[0m\u001b[1;33m)\u001b[0m\u001b[1;33m\u001b[0m\u001b[1;33m\u001b[0m\u001b[0m\n\u001b[0;32m      5\u001b[0m \u001b[1;33m\u001b[0m\u001b[0m\n",
      "\u001b[1;31mNameError\u001b[0m: name 'requests' is not defined"
     ]
    }
   ],
   "source": [
    "headers = {\"User-Agent\": \"XY\"}\n",
    "link = \"https://brokercenter.net/playa-del-carmen/\" # enter specific page\n",
    "r = requests.get(link, headers=headers)\n",
    "print(len(r.text.split('<tr class=\"row')))\n",
    "\n",
    "Dataset = \"\" # declare variable so python does not freak out"
   ]
  },
  {
   "cell_type": "code",
   "execution_count": null,
   "id": "47acae04",
   "metadata": {},
   "outputs": [],
   "source": [
    "cols = []\n",
    "for row in range(1, len(r.text.split('<tr class=\"row'))): # loop through rows\n",
    "        l = r.text.split(f'<tr class=\"row-{row} ')[1].split('</tr>')[0]\n",
    "        s = l.split('\">')\n",
    "        icols = []\n",
    "        for col in range(7): # loop through columns in rows\n",
    "\n",
    "                # get data from html\n",
    "                if s[col].split(\"<\")[0] == '\\n\\t' or s[col].split(\"<\")[0] == \"odd\" or s[col].split(\"<\")[0] == \"even\":\n",
    "                        continue\n",
    "                if row == 1:\n",
    "                        cols.append(s[col].split(\"<\")[0])\n",
    "                else:\n",
    "                        icols.append(s[col].split(\"<\")[0])\n",
    "                        \n",
    "        # append data to dataset\n",
    "        if row == 1:\n",
    "                continue\n",
    "        if row == 2:\n",
    "                print(cols) # print columns\n",
    "                Dataset = pd.DataFrame(np.array(icols).reshape([1, len(icols)]), index=[1], columns=cols)\n",
    "                print(Dataset) # print columns and first row of data\n",
    "        else:\n",
    "                # appease pandas with odd reshaping of data lists\n",
    "                Dataset = Dataset.append(pd.DataFrame(np.array(icols).reshape([1, len(icols)]), index=[1], columns=cols))"
   ]
  },
  {
   "cell_type": "code",
   "execution_count": null,
   "id": "21c1e0d1",
   "metadata": {},
   "outputs": [],
   "source": [
    "print(Dataset) # print data(it tends to run together when printed but is clean in memory)"
   ]
  },
  {
   "cell_type": "code",
   "execution_count": null,
   "id": "07abd56a",
   "metadata": {},
   "outputs": [],
   "source": [
    "Dataset.to_csv(\"data.csv\") # save as csv file"
   ]
  }
 ],
 "metadata": {
  "kernelspec": {
   "display_name": "Python 3",
   "language": "python",
   "name": "python3"
  },
  "language_info": {
   "codemirror_mode": {
    "name": "ipython",
    "version": 3
   },
   "file_extension": ".py",
   "mimetype": "text/x-python",
   "name": "python",
   "nbconvert_exporter": "python",
   "pygments_lexer": "ipython3",
   "version": "3.8.8"
  }
 },
 "nbformat": 4,
 "nbformat_minor": 5
}
