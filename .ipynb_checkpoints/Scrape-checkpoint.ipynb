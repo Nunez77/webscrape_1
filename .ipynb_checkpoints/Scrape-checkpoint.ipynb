{
 "cells": [
  {
   "cell_type": "code",
   "execution_count": null,
   "id": "dc799eaa",
   "metadata": {},
   "outputs": [],
   "source": [
    "import pandas as pd\n",
    "import numpy as np"
   ]
  },
  {
   "cell_type": "code",
   "execution_count": null,
   "id": "de243b02",
   "metadata": {},
   "outputs": [],
   "source": [
    "headers = {\"User-Agent\": \"XY\"}\n",
    "link = \"https://brokercenter.net/playa-del-carmen/\" # enter specific page\n",
    "r = requests.get(link, headers=headers)\n",
    "print(len(r.text.split('<tr class=\"row')))\n",
    "\n",
    "Dataset = \"\" # declare variable so python does not freak out"
   ]
  },
  {
   "cell_type": "code",
   "execution_count": null,
   "id": "4e9df340",
   "metadata": {},
   "outputs": [],
   "source": [
    "cols = []\n",
    "for row in range(1, len(r.text.split('<tr class=\"row'))): # loop through rows\n",
    "\tl = r.text.split(f'<tr class=\"row-{row} ')[1].split('</tr>')[0]\n",
    "\ts = l.split('\">')\n",
    "\ticols = []\n",
    "\tfor col in range(7): # loop through columns in rows\n",
    "\n",
    "\t\t# get data from html\n",
    "\t\tif s[col].split(\"<\")[0] == '\\n\\t' or s[col].split(\"<\")[0] == \"odd\" or s[col].split(\"<\")[0] == \"even\":\n",
    "\t\t\tcontinue\n",
    "\t\tif row == 1:\n",
    "\t\t\tcols.append(s[col].split(\"<\")[0])\n",
    "\t\telse:\n",
    "\t\t\ticols.append(s[col].split(\"<\")[0])"
   ]
  },
  {
   "cell_type": "code",
   "execution_count": null,
   "id": "88765224",
   "metadata": {},
   "outputs": [],
   "source": [
    "\t# append data to dataset\n",
    "\tif row == 1:\n",
    "\t\tcontinue\n",
    "\tif row == 2:\n",
    "\t\tprint(cols) # print columns\n",
    "\t\tDataset = pd.DataFrame(np.array(icols).reshape([1, len(icols)]), index=[1], columns=cols)\n",
    "\t\tprint(Dataset) # print columns and first row of data\n",
    "\telse:\n",
    "\t\t# appease pandas with odd reshaping of data lists\n",
    "\t\tDataset = Dataset.append(pd.DataFrame(np.array(icols).reshape([1, len(icols)]), index=[1], columns=cols))\n",
    "\n",
    "print(Dataset) # print data(it tends to run together when printed but is clean in memory)"
   ]
  },
  {
   "cell_type": "code",
   "execution_count": null,
   "id": "c7819395",
   "metadata": {},
   "outputs": [],
   "source": [
    "Dataset.to_csv(\"data.csv\") # save as csv file"
   ]
  }
 ],
 "metadata": {
  "kernelspec": {
   "display_name": "Python 3",
   "language": "python",
   "name": "python3"
  },
  "language_info": {
   "codemirror_mode": {
    "name": "ipython",
    "version": 3
   },
   "file_extension": ".py",
   "mimetype": "text/x-python",
   "name": "python",
   "nbconvert_exporter": "python",
   "pygments_lexer": "ipython3",
   "version": "3.8.8"
  }
 },
 "nbformat": 4,
 "nbformat_minor": 5
}
